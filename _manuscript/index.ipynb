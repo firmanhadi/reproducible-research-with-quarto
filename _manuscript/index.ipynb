{
 "cells": [
  {
   "cell_type": "markdown",
   "metadata": {},
   "source": [
    "# reproducible-research-with-quarto\n",
    "\n",
    "Norah Jones (The University)\n",
    "\n",
    "## Section\n",
    "\n",
    "This is a simple placeholder for the manuscript’s main document \\[@knuth84\\]."
   ],
   "id": "95c9e00a-7587-4f40-8227-788419a7c0b7"
  },
  {
   "cell_type": "code",
   "execution_count": null,
   "metadata": {
    "message.hidden": true,
    "warning.hidden": true
   },
   "outputs": [
    {
     "output_type": "stream",
     "name": "stdout",
     "text": [
      "[1] 2"
     ]
    }
   ],
   "source": [
    "1 + 1"
   ],
   "id": "5a77724d-c54e-4984-accd-aa9f67024618"
  }
 ],
 "nbformat": 4,
 "nbformat_minor": 5,
 "metadata": {}
}
